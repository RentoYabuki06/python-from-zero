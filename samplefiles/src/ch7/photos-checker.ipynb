{
 "cells": [
  {
   "cell_type": "code",
   "execution_count": null,
   "metadata": {
    "collapsed": true
   },
   "outputs": [],
   "source": [
    "from PIL import Image\n",
    "import numpy as np\n",
    "import glob\n",
    "\n",
    "# 画像を読み込んでデータとラベルに追加する\n",
    "data = []\n",
    "target = []\n",
    "\n",
    "def glob_images(dir, label, size):\n",
    "    files = glob.glob(dir + \"/*.jpg\")\n",
    "    for f in files:\n",
    "        img = Image.open(f) # 画像を開く\n",
    "        img = img.convert(\"RGB\") # 念のためRGB画質に\n",
    "        img.thumbnail((size, size), Image.LANCZOS) # リサイズ\n",
    "        ary = np.array(img).reshape(-1,) # 1次元に\n",
    "        data.append(ary) # データに追加\n",
    "        target.append(label) # ラベルに追加\n",
    "\n",
    "# 画像ディレクトリを指定してデータを追加\n",
    "glob_images(\"./lemon\", label=0, size=8)\n",
    "glob_images(\"./strawberry\", label=1, size=8)\n"
   ]
  },
  {
   "cell_type": "code",
   "execution_count": null,
   "metadata": {
    "collapsed": true
   },
   "outputs": [],
   "source": [
    "print(target)\n",
    "data"
   ]
  },
  {
   "cell_type": "code",
   "execution_count": null,
   "metadata": {},
   "outputs": [],
   "source": [
    "# 学習用とテスト用に分割 --- (*1)\n",
    "from sklearn.model_selection import train_test_split as split\n",
    "x, x_test, y, y_test = split(data, target)\n",
    "\n",
    "# データを学習 --- (*2)\n",
    "from sklearn import svm\n",
    "clf = svm.LinearSVC()\n",
    "clf.fit(x, y)\n",
    "\n",
    "# モデルを評価 --- (*3)\n",
    "pred = clf.predict(x_test)\n",
    "result = list(pred == y_test).count(True) / len(y_test)\n",
    "print(\"正解率=\" + str(result))"
   ]
  },
  {
   "cell_type": "code",
   "execution_count": null,
   "metadata": {
    "collapsed": true
   },
   "outputs": [],
   "source": [
    "# 解像度を16x16にアップさせてみよう\n",
    "data = []\n",
    "target = []\n",
    "glob_images(\"./lemon\", label=0, size=8)\n",
    "glob_images(\"./strawberry\", label=1, size=8)\n"
   ]
  }
 ],
 "metadata": {
  "kernelspec": {
   "display_name": "Python 3",
   "language": "python",
   "name": "python3"
  },
  "language_info": {
   "codemirror_mode": {
    "name": "ipython",
    "version": 3
   },
   "file_extension": ".py",
   "mimetype": "text/x-python",
   "name": "python",
   "nbconvert_exporter": "python",
   "pygments_lexer": "ipython3",
   "version": "3.6.3"
  }
 },
 "nbformat": 4,
 "nbformat_minor": 2
}
