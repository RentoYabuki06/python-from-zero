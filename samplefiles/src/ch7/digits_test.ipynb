{
 "cells": [
  {
   "cell_type": "code",
   "execution_count": null,
   "metadata": {},
   "outputs": [],
   "source": [
    "from sklearn.datasets import load_digits\n",
    "digits = load_digits()\n",
    "print(digits.DESCR)"
   ]
  },
  {
   "cell_type": "code",
   "execution_count": null,
   "metadata": {},
   "outputs": [],
   "source": [
    "index = 0\n",
    "print(digits.data[index])\n",
    "print(digits.target[index])\n"
   ]
  },
  {
   "cell_type": "code",
   "execution_count": null,
   "metadata": {},
   "outputs": [],
   "source": [
    "%matplotlib inline\n",
    "import matplotlib.pyplot as plt\n",
    "\n",
    "plt.matshow(digits.images[0], cmap = \"gray\")\n",
    "plt.show()"
   ]
  },
  {
   "cell_type": "code",
   "execution_count": null,
   "metadata": {},
   "outputs": [],
   "source": [
    "%matplotlib inline\n",
    "import matplotlib.pyplot as plt\n",
    "\n",
    "# 三枚の画像を画面に出力\n",
    "for i in [3, 10, 12]: # 適当なデータを取り出して描画\n",
    "    n = 16 - digits.data[i] # ネガポジ反転\n",
    "    nr = n.reshape(8, 8)\n",
    "    plt.matshow(nr, cmap = \"gray\")\n",
    "plt.show() "
   ]
  },
  {
   "cell_type": "code",
   "execution_count": null,
   "metadata": {},
   "outputs": [],
   "source": [
    "# データを学習用とテスト用に分割 --- (*1)\n",
    "from sklearn.model_selection import train_test_split as split\n",
    "x, x_test, y, y_test = split(digits.data, digits.target)\n",
    "\n",
    "# データを学習 --- (*2)\n",
    "from sklearn import svm\n",
    "clf = svm.SVC()\n",
    "clf.fit(x, y)\n",
    "\n",
    "# モデルを評価 --- (*3)\n",
    "pred = clf.predict(x_test)\n",
    "result = list(pred == y_test).count(True) / len(y_test)\n",
    "print(\"正解率=\" + str(result))"
   ]
  },
  {
   "cell_type": "code",
   "execution_count": null,
   "metadata": {},
   "outputs": [],
   "source": [
    "# データを学習\n",
    "clf = svm.LinearSVC()\n",
    "clf.fit(x, y)\n",
    "# モデルを評価\n",
    "pred = clf.predict(x_test)\n",
    "result = list(pred == y_test).count(True) / len(y_test)\n",
    "print(\"正解率=\" + str(result))"
   ]
  },
  {
   "cell_type": "code",
   "execution_count": null,
   "metadata": {},
   "outputs": [],
   "source": [
    "# 学習済みモデルを保存\n",
    "from sklearn.externals import joblib\n",
    "joblib.dump(clf, \"digits.pkl\", compress=True)"
   ]
  },
  {
   "cell_type": "code",
   "execution_count": null,
   "metadata": {},
   "outputs": [],
   "source": [
    "# ファイルから学習済みモデルを読み込む\n",
    "clf = joblib.load(\"digits.pkl\")\n",
    "\n",
    "# 読み込んだモデルの正解率を確かめる\n",
    "pred = clf.predict(x_test)\n",
    "result = list(pred == y_test).count(True) / len(y_test)\n",
    "print(\"正解率=\" + str(result))"
   ]
  },
  {
   "cell_type": "code",
   "execution_count": null,
   "metadata": {},
   "outputs": [],
   "source": [
    "%matplotlib inline\n",
    "from PIL import Image\n",
    "from matplotlib import pylab as plt\n",
    "\n",
    "# ファイル名を指定\n",
    "png_file = \"tegaki.png\"\n",
    "\n",
    "# 画像ファイルを開く \n",
    "img = Image.open(png_file)\n",
    "plt.imshow(img)"
   ]
  },
  {
   "cell_type": "code",
   "execution_count": null,
   "metadata": {},
   "outputs": [],
   "source": [
    "img.thumbnail((8, 8), Image.LANCZOS) # リサイズ\n",
    "img = img.convert(\"L\")\n",
    "plt.matshow(img, cmap = \"gray\")"
   ]
  },
  {
   "cell_type": "code",
   "execution_count": null,
   "metadata": {},
   "outputs": [],
   "source": [
    "# numpyの配列形式に変換\n",
    "import numpy as np\n",
    "\n",
    "img_a = np.array(img, 'f') # 画像→配列\n",
    "img_a =255 -  img_a # ネガポジ反転\n",
    "img_a = img_a // 16 # 0-16の範囲に揃える\n",
    "img_a = img_a.reshape(-1,) # 一次元に変換\n",
    "\n",
    "print(\"---今回変換したデータ---\")\n",
    "print(img_a)\n",
    "\n",
    "print(\"---学習に利用したデータ---\")\n",
    "print(digits.data[0])"
   ]
  },
  {
   "cell_type": "code",
   "execution_count": null,
   "metadata": {},
   "outputs": [],
   "source": [
    "# 学習モデルを読み込んで判定\n",
    "clf = joblib.load(\"digits.pkl\")\n",
    "result = clf.predict([img_a])\n",
    "print(result) # 結果を表示"
   ]
  },
  {
   "cell_type": "code",
   "execution_count": null,
   "metadata": {},
   "outputs": [],
   "source": [
    "%matplotlib inline\n",
    "from PIL import Image\n",
    "from matplotlib import pylab as plt\n",
    "import numpy as np\n",
    "\n",
    "# 画像ファイルを指定して判定する(24bit PNG対応)\n",
    "def predict_num(clf, png_file):\n",
    "    img = Image.open(png_file)\n",
    "    img.thumbnail((8, 8), Image.LANCZOS) # リサイズ\n",
    "    img = img.convert(\"L\") # グレイスケール\n",
    "    img_a = np.array(img, 'f') # 画像→配列\n",
    "    img_a =255 -  img_a # ネガポジ反転\n",
    "    img_a = img_a // 16 # 0-16の範囲に揃える\n",
    "    img_a = img_a.reshape(-1,) # 一次元に変換\n",
    "    r = clf.predict([img_a])\n",
    "    return r[0]\n",
    "\n",
    "# 学習モデルの読み込み\n",
    "clf = joblib.load(\"digits.pkl\")\n",
    "\n",
    "# テスト画像で判定してみる\n",
    "print(predict_num(clf, \"tegaki5.png\"))    \n",
    "print(predict_num(clf, \"tegaki9.png\"))    \n",
    "    "
   ]
  }
 ],
 "metadata": {
  "kernelspec": {
   "display_name": "Python 3",
   "language": "python",
   "name": "python3"
  },
  "language_info": {
   "codemirror_mode": {
    "name": "ipython",
    "version": 3
   },
   "file_extension": ".py",
   "mimetype": "text/x-python",
   "name": "python",
   "nbconvert_exporter": "python",
   "pygments_lexer": "ipython3",
   "version": "3.6.3"
  }
 },
 "nbformat": 4,
 "nbformat_minor": 2
}
